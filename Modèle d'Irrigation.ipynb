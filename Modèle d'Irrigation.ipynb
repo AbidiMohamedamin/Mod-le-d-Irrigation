{
 "cells": [
  {
   "cell_type": "code",
   "execution_count": null,
   "id": "9fd414fc",
   "metadata": {},
   "outputs": [],
   "source": [
    "# Importer les bibliothèques nécessaires\n",
    "import pandas as pd\n",
    "import numpy as np\n",
    "from sklearn.model_selection import train_test_split\n",
    "from sklearn.ensemble import RandomForestRegressor\n",
    "from sklearn.metrics import mean_squared_error, r2_score\n",
    "\n",
    "# 1. Chargement des données\n",
    "# Supposons que les données soient dans un fichier CSV avec les colonnes suivantes :\n",
    "# 'temperature', 'humidity', 'rainfall', 'soil_moisture', 'crop_type', 'irrigation_needed'\n",
    "data = pd.read_csv(\"data_irrigation.csv\")\n",
    "\n",
    "# 2. Préparation des données\n",
    "# Convertir les types de cultures en variables numériques si nécessaire\n",
    "data = pd.get_dummies(data, columns=['crop_type'], drop_first=True)\n",
    "\n",
    "# Séparer les variables indépendantes (X) et la variable dépendante (y)\n",
    "X = data.drop(columns=['irrigation_needed'])\n",
    "y = data['irrigation_needed']\n",
    "\n",
    "# Diviser les données en ensembles d'entraînement et de test\n",
    "X_train, X_test, y_train, y_test = train_test_split(X, y, test_size=0.2, random_state=42)\n",
    "\n",
    "# 3. Développer et entraîner le modèle\n",
    "model = RandomForestRegressor(n_estimators=100, random_state=42)\n",
    "model.fit(X_train, y_train)\n",
    "\n",
    "# 4. Évaluer le modèle\n",
    "y_pred = model.predict(X_test)\n",
    "mse = mean_squared_error(y_test, y_pred)\n",
    "r2 = r2_score(y_test, y_pred)\n",
    "\n",
    "print(f\"Mean Squared Error: {mse}\")\n",
    "print(f\"R-squared: {r2}\")\n",
    "\n",
    "# 5. Faire des prédictions\n",
    "# Supposons que nous ayons de nouvelles données climatiques pour lesquelles nous voulons prédire les besoins en irrigation\n",
    "new_data = pd.DataFrame({\n",
    "    'temperature': [25],\n",
    "    'humidity': [60],\n",
    "    'rainfall': [0.5],\n",
    "    'soil_moisture': [0.4],\n",
    "    'crop_type_X': [1]  # Ajuster selon les valeurs de crop_type dans le dataset\n",
    "})\n",
    "\n",
    "irrigation_needed = model.predict(new_data)\n",
    "print(f\"Besoin en irrigation prédit: {irrigation_needed[0]}\")\n"
   ]
  }
 ],
 "metadata": {
  "kernelspec": {
   "display_name": "Python 3 (ipykernel)",
   "language": "python",
   "name": "python3"
  },
  "language_info": {
   "codemirror_mode": {
    "name": "ipython",
    "version": 3
   },
   "file_extension": ".py",
   "mimetype": "text/x-python",
   "name": "python",
   "nbconvert_exporter": "python",
   "pygments_lexer": "ipython3",
   "version": "3.11.5"
  }
 },
 "nbformat": 4,
 "nbformat_minor": 5
}
